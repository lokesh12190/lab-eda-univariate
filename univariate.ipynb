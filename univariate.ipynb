{
 "cells": [
  {
   "cell_type": "markdown",
   "id": "d9c569a7",
   "metadata": {},
   "source": [
    "## Part 1: Understanding Product Categories"
   ]
  },
  {
   "cell_type": "raw",
   "id": "dc6e4754",
   "metadata": {},
   "source": [
    "Business Question: What are the most popular product categories on Amazon UK, and how do they compare in terms of listing frequency?\n",
    "\n",
    "Frequency Tables:\n",
    "\n",
    "Generate a frequency table for the product category.\n",
    "Which are the top 5 most listed product categories?\n",
    "Visualizations:\n",
    "\n",
    "Display the distribution of products across different categories using a bar chart. If you face problems understanding the chart, do it for a subset of top categories.\n",
    "For a subset of top categories, visualize their proportions using a pie chart. Does any category dominate the listings?"
   ]
  },
  {
   "cell_type": "code",
   "execution_count": 1,
   "id": "1a27f36d",
   "metadata": {},
   "outputs": [],
   "source": [
    "import pandas as pd\n",
    "import seaborn as sns\n",
    "import matplotlib\n",
    "import matplotlib.pyplot as plt"
   ]
  },
  {
   "cell_type": "code",
   "execution_count": 2,
   "id": "fbc193c6",
   "metadata": {},
   "outputs": [],
   "source": [
    "df = pd.read_csv(r\"C:\\Users\\lokes\\Desktop\\ironhack\\week 2\\day4\\lab_test\\amz_uk_price_prediction_dataset.csv\")"
   ]
  },
  {
   "cell_type": "code",
   "execution_count": 3,
   "id": "f8710db4",
   "metadata": {},
   "outputs": [
    {
     "data": {
      "text/html": [
       "<div>\n",
       "<style scoped>\n",
       "    .dataframe tbody tr th:only-of-type {\n",
       "        vertical-align: middle;\n",
       "    }\n",
       "\n",
       "    .dataframe tbody tr th {\n",
       "        vertical-align: top;\n",
       "    }\n",
       "\n",
       "    .dataframe thead th {\n",
       "        text-align: right;\n",
       "    }\n",
       "</style>\n",
       "<table border=\"1\" class=\"dataframe\">\n",
       "  <thead>\n",
       "    <tr style=\"text-align: right;\">\n",
       "      <th></th>\n",
       "      <th>uid</th>\n",
       "      <th>asin</th>\n",
       "      <th>title</th>\n",
       "      <th>stars</th>\n",
       "      <th>reviews</th>\n",
       "      <th>price</th>\n",
       "      <th>isBestSeller</th>\n",
       "      <th>boughtInLastMonth</th>\n",
       "      <th>category</th>\n",
       "    </tr>\n",
       "  </thead>\n",
       "  <tbody>\n",
       "    <tr>\n",
       "      <th>0</th>\n",
       "      <td>1</td>\n",
       "      <td>B09B96TG33</td>\n",
       "      <td>Echo Dot (5th generation, 2022 release) | Big ...</td>\n",
       "      <td>4.7</td>\n",
       "      <td>15308</td>\n",
       "      <td>21.99</td>\n",
       "      <td>False</td>\n",
       "      <td>0</td>\n",
       "      <td>Hi-Fi Speakers</td>\n",
       "    </tr>\n",
       "    <tr>\n",
       "      <th>1</th>\n",
       "      <td>2</td>\n",
       "      <td>B01HTH3C8S</td>\n",
       "      <td>Anker Soundcore mini, Super-Portable Bluetooth...</td>\n",
       "      <td>4.7</td>\n",
       "      <td>98099</td>\n",
       "      <td>23.99</td>\n",
       "      <td>True</td>\n",
       "      <td>0</td>\n",
       "      <td>Hi-Fi Speakers</td>\n",
       "    </tr>\n",
       "    <tr>\n",
       "      <th>2</th>\n",
       "      <td>3</td>\n",
       "      <td>B09B8YWXDF</td>\n",
       "      <td>Echo Dot (5th generation, 2022 release) | Big ...</td>\n",
       "      <td>4.7</td>\n",
       "      <td>15308</td>\n",
       "      <td>21.99</td>\n",
       "      <td>False</td>\n",
       "      <td>0</td>\n",
       "      <td>Hi-Fi Speakers</td>\n",
       "    </tr>\n",
       "    <tr>\n",
       "      <th>3</th>\n",
       "      <td>4</td>\n",
       "      <td>B09B8T5VGV</td>\n",
       "      <td>Echo Dot with clock (5th generation, 2022 rele...</td>\n",
       "      <td>4.7</td>\n",
       "      <td>7205</td>\n",
       "      <td>31.99</td>\n",
       "      <td>False</td>\n",
       "      <td>0</td>\n",
       "      <td>Hi-Fi Speakers</td>\n",
       "    </tr>\n",
       "    <tr>\n",
       "      <th>4</th>\n",
       "      <td>5</td>\n",
       "      <td>B09WX6QD65</td>\n",
       "      <td>Introducing Echo Pop | Full sound compact Wi-F...</td>\n",
       "      <td>4.6</td>\n",
       "      <td>1881</td>\n",
       "      <td>17.99</td>\n",
       "      <td>False</td>\n",
       "      <td>0</td>\n",
       "      <td>Hi-Fi Speakers</td>\n",
       "    </tr>\n",
       "  </tbody>\n",
       "</table>\n",
       "</div>"
      ],
      "text/plain": [
       "   uid        asin                                              title  stars  \\\n",
       "0    1  B09B96TG33  Echo Dot (5th generation, 2022 release) | Big ...    4.7   \n",
       "1    2  B01HTH3C8S  Anker Soundcore mini, Super-Portable Bluetooth...    4.7   \n",
       "2    3  B09B8YWXDF  Echo Dot (5th generation, 2022 release) | Big ...    4.7   \n",
       "3    4  B09B8T5VGV  Echo Dot with clock (5th generation, 2022 rele...    4.7   \n",
       "4    5  B09WX6QD65  Introducing Echo Pop | Full sound compact Wi-F...    4.6   \n",
       "\n",
       "   reviews  price  isBestSeller  boughtInLastMonth        category  \n",
       "0    15308  21.99         False                  0  Hi-Fi Speakers  \n",
       "1    98099  23.99          True                  0  Hi-Fi Speakers  \n",
       "2    15308  21.99         False                  0  Hi-Fi Speakers  \n",
       "3     7205  31.99         False                  0  Hi-Fi Speakers  \n",
       "4     1881  17.99         False                  0  Hi-Fi Speakers  "
      ]
     },
     "execution_count": 3,
     "metadata": {},
     "output_type": "execute_result"
    }
   ],
   "source": [
    "df.head()"
   ]
  },
  {
   "cell_type": "code",
   "execution_count": 4,
   "id": "52204ed2",
   "metadata": {},
   "outputs": [
    {
     "name": "stdout",
     "output_type": "stream",
     "text": [
      "<class 'pandas.core.frame.DataFrame'>\n",
      "RangeIndex: 2443651 entries, 0 to 2443650\n",
      "Data columns (total 9 columns):\n",
      " #   Column             Dtype  \n",
      "---  ------             -----  \n",
      " 0   uid                int64  \n",
      " 1   asin               object \n",
      " 2   title              object \n",
      " 3   stars              float64\n",
      " 4   reviews            int64  \n",
      " 5   price              float64\n",
      " 6   isBestSeller       bool   \n",
      " 7   boughtInLastMonth  int64  \n",
      " 8   category           object \n",
      "dtypes: bool(1), float64(2), int64(3), object(3)\n",
      "memory usage: 151.5+ MB\n"
     ]
    }
   ],
   "source": [
    "df.info()"
   ]
  },
  {
   "cell_type": "code",
   "execution_count": 5,
   "id": "b781ef98",
   "metadata": {},
   "outputs": [
    {
     "data": {
      "text/plain": [
       "array(['Hi-Fi Speakers', 'CD, Disc & Tape Players', 'Wearable Technology',\n",
       "       'Light Bulbs', 'Bathroom Lighting',\n",
       "       'Heating, Cooling & Air Quality', 'Coffee & Espresso Machines',\n",
       "       'Lab & Scientific Products', 'Smart Speakers',\n",
       "       'Motorbike Clothing', 'Motorbike Accessories',\n",
       "       'Motorbike Batteries', 'Motorbike Boots & Luggage',\n",
       "       'Motorbike Chassis', 'Handmade Home & Kitchen Products',\n",
       "       'Hardware', 'Storage & Home Organisation',\n",
       "       'Fireplaces, Stoves & Accessories', 'PC Gaming Accessories',\n",
       "       'USB Gadgets', 'Blank Media Cases & Wallets', 'Car & Motorbike',\n",
       "       'Boys', 'Sports & Outdoors', 'Microphones', 'String Instruments',\n",
       "       'Karaoke Equipment', 'PA & Stage',\n",
       "       'General Music-Making Accessories', 'Wind Instruments',\n",
       "       'Handmade Gifts', 'Fragrances', 'Calendars & Personal Organisers',\n",
       "       'Furniture & Lighting', 'Computer Printers', 'Ski Goggles',\n",
       "       'Snowboards', 'Skiing Poles', 'Downhill Ski Boots',\n",
       "       'Hiking Hand & Foot Warmers', 'Pet Supplies',\n",
       "       'Plants, Seeds & Bulbs', 'Garden Furniture & Accessories',\n",
       "       'Bird & Wildlife Care', 'Storage & Organisation',\n",
       "       'Living Room Furniture', 'Bedding & Linen',\n",
       "       'Curtain & Blind Accessories', 'Skin Care',\n",
       "       \"Kids' Art & Craft Supplies\", \"Kids' Play Vehicles\", 'Hobbies',\n",
       "       'Laptops', 'Projectors', 'Graphics Cards', 'Computer Memory',\n",
       "       'Motherboards', 'Power Supplies', 'CPUs', 'Computer Screws',\n",
       "       'Streaming Clients', '3D Printers', 'Barebone PCs',\n",
       "       \"Women's Sports & Outdoor Shoes\", 'Luxury Food & Drink',\n",
       "       'Alexa Built-In Devices', 'PC & Video Games', 'SIM Cards',\n",
       "       'Mobile Phone Accessories', 'Birthday Gifts',\n",
       "       'Handmade Kitchen & Dining', 'Abrasive & Finishing Products',\n",
       "       'Professional Medical Supplies', 'Cutting Tools',\n",
       "       'Material Handling Products', 'Packaging & Shipping Supplies',\n",
       "       'Power & Hand Tools', 'Agricultural Equipment & Supplies',\n",
       "       'Tennis Shoes', 'Boating Footwear', 'Cycling Shoes', 'Bath & Body',\n",
       "       'Home Brewing & Wine Making', 'Tableware',\n",
       "       'Kitchen Storage & Organisation', 'Kitchen Tools & Gadgets',\n",
       "       'Cookware', 'Water Coolers, Filters & Cartridges',\n",
       "       'Beer, Wine & Spirits', 'Manicure & Pedicure Products', 'Flashes',\n",
       "       'Computers, Components & Accessories', 'Home Audio Record Players',\n",
       "       'Radios & Boomboxes', 'Car & Vehicle Electronics',\n",
       "       'eBook Readers & Accessories', 'Lighting',\n",
       "       'Small Kitchen Appliances', 'Motorbike Engines & Engine Parts',\n",
       "       'Motorbike Drive & Gears', 'Motorbike Brakes',\n",
       "       'Motorbike Exhaust & Exhaust Systems',\n",
       "       'Motorbike Handlebars, Controls & Grips',\n",
       "       'Mowers & Outdoor Power Tools', 'Kitchen & Bath Fixtures',\n",
       "       'Rough Plumbing', 'Monitor Accessories', 'Cables & Accessories',\n",
       "       'Guitars & Gear', 'Pens, Pencils & Writing Supplies',\n",
       "       'School & Educational Supplies', 'Ski Clothing',\n",
       "       'Outdoor Heaters & Fire Pits', 'Garden Décor', 'Beauty',\n",
       "       'Made in Italy Handmade', 'Cushions & Accessories',\n",
       "       'Home Fragrance', 'Window Treatments',\n",
       "       'Home Entertainment Furniture', 'Dining Room Furniture',\n",
       "       'Home Bar Furniture', 'Kitchen Linen', 'Mattress Pads & Toppers',\n",
       "       \"Children's Bedding\", 'Bedding Accessories',\n",
       "       'Games & Game Accessories', 'Dolls & Accessories',\n",
       "       'Sports Toys & Outdoor', 'Monitors', 'I/O Port Cards',\n",
       "       'Computer Cases', 'KVM Switches', 'Printers & Accessories',\n",
       "       'Telephones, VoIP & Accessories', 'Handmade Artwork',\n",
       "       'Industrial Electrical', 'Test & Measurement',\n",
       "       '3D Printing & Scanning', 'Basketball Footwear', 'Make-up',\n",
       "       'Surveillance Cameras', 'Photo Printers', 'Tripods & Monopods',\n",
       "       'Mobile Phones & Communication', 'Electrical Power Accessories',\n",
       "       'Radio Communication', 'Outdoor Rope Lights',\n",
       "       'Vacuums & Floorcare', 'Large Appliances', 'Motorbike Lighting',\n",
       "       'Motorbike Seat Covers', 'Motorbike Instruments',\n",
       "       'Motorbike Electrical & Batteries', 'Lights and switches', 'Plugs',\n",
       "       'Home Entertainment', 'Girls',\n",
       "       'Painting Supplies, Tools & Wall Treatments', 'Building Supplies',\n",
       "       'Safety & Security', 'Tablet Accessories',\n",
       "       'Keyboards, Mice & Input Devices', 'Laptop Accessories',\n",
       "       'Headphones & Earphones', 'Baby', 'Smartwatches',\n",
       "       'Piano & Keyboard', 'Drums & Percussion',\n",
       "       'Synthesisers, Samplers & Digital Instruments',\n",
       "       'Office Electronics', 'Office Supplies', 'Gardening',\n",
       "       'Outdoor Cooking', 'Decking & Fencing',\n",
       "       'Thermometers & Meteorological Instruments',\n",
       "       'Pools, Hot Tubs & Supplies', 'Health & Personal Care',\n",
       "       'Decorative Artificial Flora', 'Candles & Holders',\n",
       "       'Signs & Plaques', 'Home Office Furniture', 'Bathroom Furniture',\n",
       "       'Inflatable Beds, Pillows & Accessories', 'Bathroom Linen',\n",
       "       'Bedding Collections', \"Kids' Play Figures\", 'Baby & Toddler Toys',\n",
       "       'Learning & Education Toys', 'Toy Advent Calendars',\n",
       "       'Electronic Toys', 'Tablets', 'External Sound Cards',\n",
       "       'Internal TV Tuner & Video Capture Cards',\n",
       "       'External TV Tuners & Video Capture Cards',\n",
       "       'Scanners & Accessories', \"Men's Sports & Outdoor Shoes\",\n",
       "       'Darts & Dartboards', 'Table Tennis', 'Billiard, Snooker & Pool',\n",
       "       'Bowling', 'Trampolines & Accessories',\n",
       "       'Handmade Clothing, Shoes & Accessories', 'Handmade Home Décor',\n",
       "       'Handmade', 'Smart Home Security & Lighting',\n",
       "       'Professional Education Supplies',\n",
       "       'Hydraulics, Pneumatics & Plumbing', 'Ballet & Dancing Footwear',\n",
       "       'Cricket Shoes', 'Golf Shoes', 'Boxing Shoes', 'Men',\n",
       "       'Headphones, Earphones & Accessories', 'Bakeware', 'Grocery',\n",
       "       'Lenses', 'Camcorders', 'Camera & Photo Accessories',\n",
       "       'Household Batteries, Chargers & Accessories',\n",
       "       'Home Cinema, TV & Video', 'Hi-Fi & Home Audio Accessories',\n",
       "       'Portable Sound & Video Products', 'Outdoor Lighting', 'Torches',\n",
       "       'Sports Supplements', 'Ironing & Steamers',\n",
       "       \"Customers' Most Loved\", 'Cameras', 'Electrical',\n",
       "       'Construction Machinery', 'Handmade Baby Products', 'USB Hubs',\n",
       "       'Computer Audio & Video Accessories', 'Adapters',\n",
       "       'Computer & Server Racks', 'Hard Drive Accessories',\n",
       "       'Printer Accessories', 'Computer Memory Card Accessories',\n",
       "       'Uninterruptible Power Supply Units & Accessories',\n",
       "       'Luggage and travel gear', 'Bass Guitars & Gear',\n",
       "       'Recording & Computer', 'DJ & VJ Equipment',\n",
       "       'Art & Craft Supplies', 'Office Paper Products', 'Ski Helmets',\n",
       "       'Snowboard Boots', 'Snowboard Bindings', 'Downhill Skis',\n",
       "       'Snow Sledding Equipment', 'Networking Devices',\n",
       "       'Garden Storage & Housing', 'Garden Tools & Watering Equipment',\n",
       "       'Photo Frames', 'Rugs, Pads & Protectors', 'Mirrors', 'Clocks',\n",
       "       'Doormats', 'Decorative Home Accessories', 'Boxes & Organisers',\n",
       "       'Slipcovers', 'Vases', 'Bedroom Furniture', 'Hallway Furniture',\n",
       "       'Jigsaws & Puzzles', 'Building & Construction Toys',\n",
       "       'Remote & App-Controlled Devices', \"Kids' Dress Up & Pretend Play\",\n",
       "       'Soft Toys', 'Desktop PCs', 'External Optical Drives',\n",
       "       'Internal Optical Drives', 'Network Cards', 'Data Storage',\n",
       "       'Mobile Phones & Smartphones', 'Handmade Jewellery',\n",
       "       'Gifts for Him', 'Gifts for Her', 'Women', 'Hockey Shoes',\n",
       "       'Climbing Footwear', 'Equestrian Sports Boots', 'Arts & Crafts',\n",
       "       'Hair Care', 'Coffee, Tea & Espresso', 'Digital Cameras',\n",
       "       'Digital Frames', 'Action Cameras', 'Film Cameras',\n",
       "       'Binoculars, Telescopes & Optics', 'Media Streaming Devices',\n",
       "       'Hi-Fi Receivers & Separates', 'GPS, Finders & Accessories',\n",
       "       'Indoor Lighting', 'String Lights'], dtype=object)"
      ]
     },
     "execution_count": 5,
     "metadata": {},
     "output_type": "execute_result"
    }
   ],
   "source": [
    "\n",
    "df[\"category\"].unique()\n"
   ]
  },
  {
   "cell_type": "code",
   "execution_count": 6,
   "id": "b1dce640",
   "metadata": {},
   "outputs": [],
   "source": [
    "# Matplotlib inline to visualize Matplotlib graphs\n",
    "%matplotlib inline\n",
    "\n",
    "# Configuration to set so that all the Seaborn figures come out with this size\n",
    "%config Inlinebackend.figure_format= 'retina'"
   ]
  },
  {
   "cell_type": "code",
   "execution_count": 7,
   "id": "a56774dc",
   "metadata": {},
   "outputs": [],
   "source": [
    "# Set the Seaborn context to \"poster\" for larger text and figures\n",
    "sns.set_context(\"poster\")\n",
    "\n",
    "# Set the default figure size for Seaborn plots\n",
    "sns.set(rc={\"figure.figsize\": (12., 6.)})\n",
    "\n",
    "# Set the Seaborn style to \"whitegrid\" for a white background with gridlines\n",
    "sns.set_style(\"whitegrid\")"
   ]
  },
  {
   "cell_type": "code",
   "execution_count": 8,
   "id": "1d54cd85",
   "metadata": {},
   "outputs": [
    {
     "name": "stdout",
     "output_type": "stream",
     "text": [
      "                                   category   count\n",
      "0                         Sports & Outdoors  836265\n",
      "1                                    Beauty   19312\n",
      "2    Handmade Clothing, Shoes & Accessories   19229\n",
      "3                               Bath & Body   19092\n",
      "4                            Birthday Gifts   18978\n",
      "..                                      ...     ...\n",
      "291                  Alexa Built-In Devices     107\n",
      "292                       Motorbike Chassis     107\n",
      "293                                   Plugs     107\n",
      "294          Smart Home Security & Lighting     104\n",
      "295                          Smart Speakers      54\n",
      "\n",
      "[296 rows x 2 columns]\n"
     ]
    }
   ],
   "source": [
    "freq_table = df[\"category\"].value_counts().reset_index()\n",
    "freq_table.columns = [\"category\", \"count\"]\n",
    "print(freq_table)\n"
   ]
  },
  {
   "cell_type": "code",
   "execution_count": 9,
   "id": "4bb565b3",
   "metadata": {},
   "outputs": [
    {
     "name": "stdout",
     "output_type": "stream",
     "text": [
      "                                 category   count\n",
      "0                       Sports & Outdoors  836265\n",
      "1                                  Beauty   19312\n",
      "2  Handmade Clothing, Shoes & Accessories   19229\n",
      "3                             Bath & Body   19092\n",
      "4                          Birthday Gifts   18978\n"
     ]
    }
   ],
   "source": [
    "top5_categories = freq_table.head(5)\n",
    "print(top5_categories)\n"
   ]
  },
  {
   "cell_type": "code",
   "execution_count": 10,
   "id": "67736dcb",
   "metadata": {},
   "outputs": [],
   "source": [
    "freq_counts = df[\"category\"].value_counts()\n"
   ]
  },
  {
   "cell_type": "code",
   "execution_count": 11,
   "id": "7c3b67c2",
   "metadata": {},
   "outputs": [
    {
     "data": {
      "image/png": "[encoded data removed]",
      "text/plain": [
       "<Figure size 864x432 with 1 Axes>"
      ]
     },
     "metadata": {},
     "output_type": "display_data"
    }
   ],
   "source": [
    "freq_counts.iloc[1:].sample(20).plot.bar()\n",
    "plt.show()"
   ]
  },
  {
   "cell_type": "code",
   "execution_count": 12,
   "id": "50b032fa",
   "metadata": {},
   "outputs": [
    {
     "data": {
      "image/png": "[encoded data removed]",
      "text/plain": [
       "<Figure size 864x432 with 1 Axes>"
      ]
     },
     "metadata": {},
     "output_type": "display_data"
    }
   ],
   "source": [
    "freq_counts.iloc[1:].sample(7).plot.pie()\n",
    "plt.show()"
   ]
  },
  {
   "cell_type": "markdown",
   "id": "037426b1",
   "metadata": {},
   "source": [
    "## Part 2: Delving into Product Pricing"
   ]
  },
  {
   "cell_type": "raw",
   "id": "6a4fda33",
   "metadata": {},
   "source": [
    "Business Question: How are products priced on Amazon UK, and are there specific price points or ranges that are more common?\n",
    "\n",
    "Measures of Centrality:\n",
    "\n",
    "Calculate the mean, median, and mode for the price of products.\n",
    "What's the average price point of products listed? How does this compare with the most common price point (mode)?\n",
    "Measures of Dispersion:\n",
    "\n",
    "Determine the variance, standard deviation, range, and interquartile range for product price.\n",
    "How varied are the product prices? Are there any indicators of a significant spread in prices?\n",
    "Visualizations:\n",
    "\n",
    "Is there a specific price range where most products fall? Plot a histogram to visualize the distribution of product prices. If its hard to read these diagrams, think why this is, and explain how it could be solved..\n",
    "Are there products that are priced significantly higher than the rest? Use a box plot to showcase the spread and potential outliers in product pricing."
   ]
  },
  {
   "cell_type": "code",
   "execution_count": 13,
   "id": "4518e606",
   "metadata": {},
   "outputs": [
    {
     "name": "stdout",
     "output_type": "stream",
     "text": [
      "Mean (Average) Price:  89.24\n",
      "Median Price:  19.09\n",
      "Mode (Most Common) Price:  9.99\n"
     ]
    }
   ],
   "source": [
    "mean_price = df[\"price\"].mean()\n",
    "median_price = df[\"price\"].median()\n",
    "mode_price = df[\"price\"].mode()[0]\n",
    "\n",
    "print(\"Mean (Average) Price: \", round(mean_price, 2))\n",
    "print(\"Median Price: \", round(median_price, 2))\n",
    "print(\"Mode (Most Common) Price: \", round(mode_price, 2))\n"
   ]
  },
  {
   "cell_type": "markdown",
   "id": "d215fe0b",
   "metadata": {},
   "source": [
    "The average product price on Amazon UK is 89.24, but the most common price is just 9.99.\n",
    "This suggests that while most items are affordably priced, a small number of high-value products significantly increase the average, indicating a right-skewed price distribution."
   ]
  },
  {
   "cell_type": "code",
   "execution_count": 14,
   "id": "f73f7dd8",
   "metadata": {},
   "outputs": [
    {
     "name": "stdout",
     "output_type": "stream",
     "text": [
      "Variance:  119445.49\n",
      "Standard Deviation:  345.61\n",
      "Range:  100000.0\n",
      "Interquartile Range (IQR):  36.0\n"
     ]
    }
   ],
   "source": [
    "variance_price = df[\"price\"].var()\n",
    "std_dev_price = df[\"price\"].std()\n",
    "range_price = df[\"price\"].max() - df[\"price\"].min()\n",
    "iqr_price = df[\"price\"].quantile(0.75) - df[\"price\"].quantile(0.25)\n",
    "\n",
    "print(\"Variance: \", round(variance_price, 2))\n",
    "print(\"Standard Deviation: \", round(std_dev_price, 2))\n",
    "print(\"Range: \", round(range_price, 2))\n",
    "print(\"Interquartile Range (IQR): \", round(iqr_price, 2))\n"
   ]
  },
  {
   "cell_type": "markdown",
   "id": "246ac869",
   "metadata": {},
   "source": [
    "Product prices on Amazon UK are highly varied, ranging from a few pounds to tens of thousands.\n",
    "While most items are clustered within an affordable range (around £10–£50), the very large standard deviation and range indicate the presence of significant price outliers.\n",
    "This wide spread suggests that Amazon UK’s marketplace includes both low-cost everyday goods and premium or luxury products, creating a strongly right-skewed distribution."
   ]
  },
  {
   "cell_type": "code",
   "execution_count": 15,
   "id": "ea07b5ee",
   "metadata": {},
   "outputs": [
    {
     "data": {
      "image/png": "[encoded data removed]",
      "text/plain": [
       "<Figure size 864x432 with 1 Axes>"
      ]
     },
     "metadata": {},
     "output_type": "display_data"
    }
   ],
   "source": [
    "df[\"price\"].plot.hist(bins=100)\n",
    "plt.show()"
   ]
  },
  {
   "cell_type": "code",
   "execution_count": 16,
   "id": "4ac17f95",
   "metadata": {},
   "outputs": [
    {
     "data": {
      "image/png": "[encoded data removed]",
      "text/plain": [
       "<Figure size 864x432 with 1 Axes>"
      ]
     },
     "metadata": {},
     "output_type": "display_data"
    }
   ],
   "source": [
    "\n",
    "\n",
    "df[\"price\"].plot.hist(bins=100, log=True, color=\"skyblue\", edgecolor=\"black\")\n",
    "\n",
    "plt.title(\"Distribution of Product Prices on Amazon UK (Log Scale)\")\n",
    "plt.xlabel(\"Price (£)\")\n",
    "plt.ylabel(\"Frequency (Log Scale)\")\n",
    "plt.tight_layout()\n",
    "plt.show()\n"
   ]
  },
  {
   "cell_type": "code",
   "execution_count": null,
   "id": "b502f7c2",
   "metadata": {},
   "outputs": [],
   "source": []
  },
  {
   "cell_type": "code",
   "execution_count": 17,
   "id": "f9b71255",
   "metadata": {},
   "outputs": [
    {
     "data": {
      "image/png": "[encoded data removed]",
      "text/plain": [
       "<Figure size 576x360 with 1 Axes>"
      ]
     },
     "metadata": {},
     "output_type": "display_data"
    }
   ],
   "source": [
    "plt.figure(figsize=(8,5))\n",
    "plt.boxplot(df[\"price\"], vert=False, patch_artist=True, boxprops=dict(facecolor=\"lightgreen\"))\n",
    "plt.title(\"Box Plot of Product Prices\")\n",
    "plt.xlabel(\"Price (£)\")\n",
    "plt.tight_layout()\n",
    "plt.show()\n"
   ]
  },
  {
   "cell_type": "markdown",
   "id": "1c78390d",
   "metadata": {},
   "source": [
    "## Part 3: Unpacking Product Ratings\n",
    "Business Question: How do customers rate products on Amazon UK, and are there any patterns or tendencies in the ratings?\n"
   ]
  },
  {
   "cell_type": "raw",
   "id": "8b2368f0",
   "metadata": {},
   "source": [
    "Measures of Centrality:\n",
    "\n",
    "Calculate the mean, median, and mode for the rating of products.\n",
    "How do customers generally rate products? Is there a common trend?\n",
    "Measures of Dispersion:\n",
    "\n",
    "Determine the variance, standard deviation, and interquartile range for product rating.\n",
    "Are the ratings consistent, or is there a wide variation in customer feedback?\n",
    "Shape of the Distribution:\n",
    "\n",
    "Calculate the skewness and kurtosis for the rating column.\n",
    "Are the ratings normally distributed, or do they lean towards higher or lower values?\n",
    "Visualizations:\n",
    "\n",
    "Plot a histogram to visualize the distribution of product ratings. Is there a specific rating that is more common?"
   ]
  },
  {
   "cell_type": "code",
   "execution_count": 21,
   "id": "d0cb650b",
   "metadata": {},
   "outputs": [
    {
     "name": "stdout",
     "output_type": "stream",
     "text": [
      "Mean Rating: 4.37\n",
      "Median Rating: 4.4\n",
      "Mode Rating: 4.5\n"
     ]
    }
   ],
   "source": [
    "# Filter out rows with zero stars\n",
    "filtered_data = df[df[\"stars\"] != 0]\n",
    "\n",
    "# Group by product (asin) and take one representative row per product\n",
    "ratings = filtered_data.groupby(\"asin\")[\"stars\"].nth(1)\n",
    "\n",
    "# Calculate central tendency measures\n",
    "mean_rating = ratings.mean()\n",
    "median_rating = ratings.median()\n",
    "mode_rating = ratings.mode()[0]\n",
    "\n",
    "print(\"Mean Rating:\", round(mean_rating, 2))\n",
    "print(\"Median Rating:\", round(median_rating, 2))\n",
    "print(\"Mode Rating:\", round(mode_rating, 2))\n"
   ]
  },
  {
   "cell_type": "markdown",
   "id": "0db582e0",
   "metadata": {},
   "source": [
    "Customers generally give high ratings to products on Amazon UK. The mean (4.37), median (4.4), and mode (4.5) are all close together and near the top of the scale, showing that most customers are satisfied and tend to rate products positively, with a clear trend toward 4–5 star reviews."
   ]
  },
  {
   "cell_type": "code",
   "execution_count": 24,
   "id": "c81c01e5",
   "metadata": {},
   "outputs": [
    {
     "name": "stdout",
     "output_type": "stream",
     "text": [
      "Variance: 0.22\n",
      "Standard Deviation: 0.47\n",
      "Interquartile Range (IQR): 0.4\n"
     ]
    }
   ],
   "source": [
    "variance_rating = ratings.var()\n",
    "std_rating = ratings.std()\n",
    "iqr_rating = ratings.quantile(0.75) - ratings.quantile(0.25)\n",
    "\n",
    "print(\"Variance:\", round(variance_rating, 2))\n",
    "print(\"Standard Deviation:\", round(std_rating, 2))\n",
    "print(\"Interquartile Range (IQR):\", round(iqr_rating, 2))\n"
   ]
  },
  {
   "cell_type": "markdown",
   "id": "b1543410",
   "metadata": {},
   "source": [
    "\n",
    "The ratings show **very little variation** — with a **variance of 0.22**, **standard deviation of 0.47**, and **IQR of 0.4**, customer feedback is **highly consistent**. Most ratings cluster tightly around the high end (4–5 stars), indicating that customers generally rate products **similarly and positively**.\n"
   ]
  },
  {
   "cell_type": "code",
   "execution_count": 25,
   "id": "bce58070",
   "metadata": {},
   "outputs": [
    {
     "name": "stdout",
     "output_type": "stream",
     "text": [
      "Skewness: -2.39\n",
      "Kurtosis: 11.61\n"
     ]
    }
   ],
   "source": [
    "from scipy.stats import skew, kurtosis\n",
    "\n",
    "skewness = skew(ratings.dropna())\n",
    "kurt = kurtosis(ratings.dropna())\n",
    "\n",
    "print(\"Skewness:\", round(skewness, 2))\n",
    "print(\"Kurtosis:\", round(kurt, 2))\n"
   ]
  },
  {
   "cell_type": "markdown",
   "id": "0f841efc",
   "metadata": {},
   "source": [
    "The ratings are not normally distributed — they show a strong left skew (skewness = -2.39) and are highly peaked (kurtosis = 11.61). This means most products receive very high ratings (4–5 stars), while low ratings are relatively rare."
   ]
  },
  {
   "cell_type": "code",
   "execution_count": 29,
   "id": "806a03bd",
   "metadata": {},
   "outputs": [
    {
     "data": {
      "image/png": "[encoded data removed]",
      "text/plain": [
       "<Figure size 576x360 with 1 Axes>"
      ]
     },
     "metadata": {},
     "output_type": "display_data"
    }
   ],
   "source": [
    "import matplotlib.pyplot as plt\n",
    "\n",
    "plt.figure(figsize=(8,5))\n",
    "plt.hist(ratings, bins=10, color=\"blue\", edgecolor=\"black\")\n",
    "plt.title(\"Distribution of Product Ratings on Amazon UK\")\n",
    "plt.xlabel(\"Rating\")\n",
    "plt.ylabel(\"Number of Products\")\n",
    "plt.tight_layout()\n",
    "plt.show()\n"
   ]
  },
  {
   "cell_type": "markdown",
   "id": "d51c7056",
   "metadata": {},
   "source": [
    "In this picture once agin we got clarified with leftskewness"
   ]
  },
  {
   "cell_type": "code",
   "execution_count": null,
   "id": "cec75fd0",
   "metadata": {},
   "outputs": [],
   "source": []
  }
 ],
 "metadata": {
  "kernelspec": {
   "display_name": "Python 3 (ipykernel)",
   "language": "python",
   "name": "python3"
  },
  "language_info": {
   "codemirror_mode": {
    "name": "ipython",
    "version": 3
   },
   "file_extension": ".py",
   "mimetype": "text/x-python",
   "name": "python",
   "nbconvert_exporter": "python",
   "pygments_lexer": "ipython3",
   "version": "3.9.12"
  }
 },
 "nbformat": 4,
 "nbformat_minor": 5
}
